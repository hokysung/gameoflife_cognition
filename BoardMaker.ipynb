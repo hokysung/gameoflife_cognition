{
 "cells": [
  {
   "cell_type": "code",
   "execution_count": 166,
   "metadata": {},
   "outputs": [
    {
     "name": "stdout",
     "output_type": "stream",
     "text": [
      "b2o$obo$3o$10b2o$b2o7bo$4o4bobo$o3bo3b2o$5bo$2bo2bo$5bo$o3bo3b2o$4o4bobo$b2o7bo$10b2o$3o$obo$b2o$\n",
      "12 17\n",
      "boobbbbbbbbbobobbbbbbbbbooobbbbbbbbbbbbbbbbbbbooboobbbbbbboboooobbbbobobobbbobbboobbbbbbbobbbbbbbbobbobbbbbbbbbbbobbbbbbobbbobbboobboooobbbbobobboobbbbbbbobbbbbbbbbbbooooobbbbbbbbbobobbbbbbbbbboobbbbbbbbb\n"
     ]
    }
   ],
   "source": [
    "import os\n",
    "import torch\n",
    "import random\n",
    "import torch.nn as nn\n",
    "\n",
    "f=open(\"./all/48p9.rle\", \"r\")\n",
    "lines = f.readlines()\n",
    "encoded = ''\n",
    "j = 0\n",
    "for j in range(len(lines)):\n",
    "    if lines[j][0] != '#':\n",
    "        break\n",
    "for i in range(j+1, len(lines)):\n",
    "    encoded += lines[i].split('\\n')[0].split('!')[0]\n",
    "encoded += '$'\n",
    "print(encoded)\n",
    "\n",
    "a = lines[j].split(',')\n",
    "x = int(a[0][4:])\n",
    "y = int(a[1][5:])\n",
    "print(x,y)\n",
    "\n",
    "board = torch.zeros(x*y)\n",
    "\n",
    "def decoder(data):\n",
    "    decode = ''\n",
    "    count = ''\n",
    "    pos = 0\n",
    "    \n",
    "    for char in data:\n",
    "        if char.isdigit():\n",
    "            count += char\n",
    "        elif char.isalpha():\n",
    "            if count == '':\n",
    "                num = 1\n",
    "            else:\n",
    "                num = int(count)\n",
    "            decode += char * num\n",
    "            count = ''\n",
    "            pos+= num\n",
    "            \n",
    "        else:\n",
    "            if count == '':\n",
    "                num = 1\n",
    "            else:\n",
    "                num = int(count)\n",
    "            decode += 'b' * (x - pos)\n",
    "            decode += 'b' * x * (num-1)\n",
    "            pos = 0\n",
    "            count = ''\n",
    "            \n",
    "    return decode\n",
    "decoded = decoder(encoded)\n",
    "print(decoded)\n",
    "\n",
    "for i in range(x*y):\n",
    "    if decoded[i] == 'o':\n",
    "        board[i] = 1\n",
    "\n",
    "\n",
    "board = board.reshape(y,x)\n",
    "\n",
    "hor = 50 - x\n",
    "ver = 50 - y\n",
    "left = int(random.random() * hor)\n",
    "top = int(random.random() * ver)\n",
    "    \n",
    "pad = nn.ConstantPad2d((left, hor -  left, top, ver-top), 0)\n",
    "board = pad(board)\n"
   ]
  },
  {
   "cell_type": "code",
   "execution_count": 167,
   "metadata": {},
   "outputs": [
    {
     "name": "stdout",
     "output_type": "stream",
     "text": [
      "torch.Size([50, 50])\n"
     ]
    }
   ],
   "source": [
    "print(board.shape)"
   ]
  },
  {
   "cell_type": "code",
   "execution_count": 168,
   "metadata": {},
   "outputs": [
    {
     "data": {
      "image/png": "[encoded data removed]",
      "text/plain": [
       "<Figure size 432x288 with 1 Axes>"
      ]
     },
     "metadata": {
      "needs_background": "light"
     },
     "output_type": "display_data"
    },
    {
     "name": "stdout",
     "output_type": "stream",
     "text": [
      "(50, 50)\n"
     ]
    }
   ],
   "source": [
    "import matplotlib.pyplot as plt\n",
    "np_board = board.numpy().reshape(50,50)\n",
    "plt.imshow(np_board, cmap='Greys',  interpolation='nearest')\n",
    "plt.show()\n",
    "print(np_board.shape)"
   ]
  },
  {
   "cell_type": "code",
   "execution_count": 162,
   "metadata": {},
   "outputs": [
    {
     "data": {
      "text/plain": [
       "array([[0., 0., 0., ..., 0., 0., 0.],\n",
       "       [0., 0., 0., ..., 0., 0., 0.],\n",
       "       [0., 0., 0., ..., 0., 0., 0.],\n",
       "       ...,\n",
       "       [0., 0., 0., ..., 0., 0., 0.],\n",
       "       [0., 0., 0., ..., 0., 0., 0.],\n",
       "       [0., 0., 0., ..., 0., 0., 0.]], dtype=float32)"
      ]
     },
     "execution_count": 162,
     "metadata": {},
     "output_type": "execute_result"
    }
   ],
   "source": [
    "np_board"
   ]
  },
  {
   "cell_type": "code",
   "execution_count": 145,
   "metadata": {},
   "outputs": [
    {
     "data": {
      "text/plain": [
       "36"
      ]
     },
     "execution_count": 145,
     "metadata": {},
     "output_type": "execute_result"
    }
   ],
   "source": [
    "y"
   ]
  },
  {
   "cell_type": "code",
   "execution_count": null,
   "metadata": {},
   "outputs": [],
   "source": []
  }
 ],
 "metadata": {
  "kernelspec": {
   "display_name": "Python 3",
   "language": "python",
   "name": "python3"
  },
  "language_info": {
   "codemirror_mode": {
    "name": "ipython",
    "version": 3
   },
   "file_extension": ".py",
   "mimetype": "text/x-python",
   "name": "python",
   "nbconvert_exporter": "python",
   "pygments_lexer": "ipython3",
   "version": "3.7.1"
  }
 },
 "nbformat": 4,
 "nbformat_minor": 2
}
